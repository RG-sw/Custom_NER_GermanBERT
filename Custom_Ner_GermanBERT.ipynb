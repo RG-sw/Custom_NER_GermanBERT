{
  "cells": [
    {
      "cell_type": "markdown",
      "metadata": {
        "id": "view-in-github",
        "colab_type": "text"
      },
      "source": [
        "<a href=\"https://colab.research.google.com/github/RG-sw/Custom_NER_GermanBERT/blob/main/Custom_Ner_GermanBERT.ipynb\" target=\"_parent\"><img src=\"https://colab.research.google.com/assets/colab-badge.svg\" alt=\"Open In Colab\"/></a>"
      ]
    },
    {
      "cell_type": "markdown",
      "id": "9_Igu3_P7fxV",
      "metadata": {
        "id": "9_Igu3_P7fxV"
      },
      "source": [
        "# Fine-tuning **[`German BERT`](https://www.deepset.ai/german-bert)** on Custom Data\n"
      ]
    },
    {
      "cell_type": "markdown",
      "id": "KsjC8sN-qUa4",
      "metadata": {
        "id": "KsjC8sN-qUa4"
      },
      "source": [
        "### Install and import required packages"
      ]
    },
    {
      "cell_type": "code",
      "execution_count": null,
      "id": "60uDEtc10LTN",
      "metadata": {
        "colab": {
          "base_uri": "https://localhost:8080/"
        },
        "id": "60uDEtc10LTN",
        "outputId": "26967379-95a8-4a08-8b66-45e59a1b6e68"
      },
      "outputs": [
        {
          "output_type": "stream",
          "name": "stdout",
          "text": [
            "Looking in indexes: https://pypi.org/simple, https://us-python.pkg.dev/colab-wheels/public/simple/\n",
            "Requirement already satisfied: keras in /usr/local/lib/python3.8/dist-packages (2.9.0)\n",
            "Looking in indexes: https://pypi.org/simple, https://us-python.pkg.dev/colab-wheels/public/simple/\n",
            "Requirement already satisfied: scikit-learn in /usr/local/lib/python3.8/dist-packages (1.0.2)\n",
            "Requirement already satisfied: numpy>=1.14.6 in /usr/local/lib/python3.8/dist-packages (from scikit-learn) (1.21.6)\n",
            "Requirement already satisfied: threadpoolctl>=2.0.0 in /usr/local/lib/python3.8/dist-packages (from scikit-learn) (3.1.0)\n",
            "Requirement already satisfied: scipy>=1.1.0 in /usr/local/lib/python3.8/dist-packages (from scikit-learn) (1.7.3)\n",
            "Requirement already satisfied: joblib>=0.11 in /usr/local/lib/python3.8/dist-packages (from scikit-learn) (1.2.0)\n",
            "Looking in indexes: https://pypi.org/simple, https://us-python.pkg.dev/colab-wheels/public/simple/\n",
            "Collecting transformers\n",
            "  Downloading transformers-4.25.1-py3-none-any.whl (5.8 MB)\n",
            "\u001b[K     |████████████████████████████████| 5.8 MB 35.3 MB/s \n",
            "\u001b[?25hRequirement already satisfied: filelock in /usr/local/lib/python3.8/dist-packages (from transformers) (3.8.0)\n",
            "Requirement already satisfied: regex!=2019.12.17 in /usr/local/lib/python3.8/dist-packages (from transformers) (2022.6.2)\n",
            "Requirement already satisfied: requests in /usr/local/lib/python3.8/dist-packages (from transformers) (2.23.0)\n",
            "Requirement already satisfied: pyyaml>=5.1 in /usr/local/lib/python3.8/dist-packages (from transformers) (6.0)\n",
            "Collecting tokenizers!=0.11.3,<0.14,>=0.11.1\n",
            "  Downloading tokenizers-0.13.2-cp38-cp38-manylinux_2_17_x86_64.manylinux2014_x86_64.whl (7.6 MB)\n",
            "\u001b[K     |████████████████████████████████| 7.6 MB 48.4 MB/s \n",
            "\u001b[?25hRequirement already satisfied: packaging>=20.0 in /usr/local/lib/python3.8/dist-packages (from transformers) (21.3)\n",
            "Collecting huggingface-hub<1.0,>=0.10.0\n",
            "  Downloading huggingface_hub-0.11.1-py3-none-any.whl (182 kB)\n",
            "\u001b[K     |████████████████████████████████| 182 kB 77.9 MB/s \n",
            "\u001b[?25hRequirement already satisfied: numpy>=1.17 in /usr/local/lib/python3.8/dist-packages (from transformers) (1.21.6)\n",
            "Requirement already satisfied: tqdm>=4.27 in /usr/local/lib/python3.8/dist-packages (from transformers) (4.64.1)\n",
            "Requirement already satisfied: typing-extensions>=3.7.4.3 in /usr/local/lib/python3.8/dist-packages (from huggingface-hub<1.0,>=0.10.0->transformers) (4.4.0)\n",
            "Requirement already satisfied: pyparsing!=3.0.5,>=2.0.2 in /usr/local/lib/python3.8/dist-packages (from packaging>=20.0->transformers) (3.0.9)\n",
            "Requirement already satisfied: urllib3!=1.25.0,!=1.25.1,<1.26,>=1.21.1 in /usr/local/lib/python3.8/dist-packages (from requests->transformers) (1.24.3)\n",
            "Requirement already satisfied: idna<3,>=2.5 in /usr/local/lib/python3.8/dist-packages (from requests->transformers) (2.10)\n",
            "Requirement already satisfied: certifi>=2017.4.17 in /usr/local/lib/python3.8/dist-packages (from requests->transformers) (2022.9.24)\n",
            "Requirement already satisfied: chardet<4,>=3.0.2 in /usr/local/lib/python3.8/dist-packages (from requests->transformers) (3.0.4)\n",
            "Installing collected packages: tokenizers, huggingface-hub, transformers\n",
            "Successfully installed huggingface-hub-0.11.1 tokenizers-0.13.2 transformers-4.25.1\n",
            "Looking in indexes: https://pypi.org/simple, https://us-python.pkg.dev/colab-wheels/public/simple/\n",
            "Requirement already satisfied: torch in /usr/local/lib/python3.8/dist-packages (1.13.0+cu116)\n",
            "Requirement already satisfied: torchvision in /usr/local/lib/python3.8/dist-packages (0.14.0+cu116)\n",
            "Requirement already satisfied: torchaudio in /usr/local/lib/python3.8/dist-packages (0.13.0+cu116)\n",
            "Requirement already satisfied: typing-extensions in /usr/local/lib/python3.8/dist-packages (from torch) (4.4.0)\n",
            "Requirement already satisfied: numpy in /usr/local/lib/python3.8/dist-packages (from torchvision) (1.21.6)\n",
            "Requirement already satisfied: requests in /usr/local/lib/python3.8/dist-packages (from torchvision) (2.23.0)\n",
            "Requirement already satisfied: pillow!=8.3.*,>=5.3.0 in /usr/local/lib/python3.8/dist-packages (from torchvision) (7.1.2)\n",
            "Requirement already satisfied: urllib3!=1.25.0,!=1.25.1,<1.26,>=1.21.1 in /usr/local/lib/python3.8/dist-packages (from requests->torchvision) (1.24.3)\n",
            "Requirement already satisfied: certifi>=2017.4.17 in /usr/local/lib/python3.8/dist-packages (from requests->torchvision) (2022.9.24)\n",
            "Requirement already satisfied: idna<3,>=2.5 in /usr/local/lib/python3.8/dist-packages (from requests->torchvision) (2.10)\n",
            "Requirement already satisfied: chardet<4,>=3.0.2 in /usr/local/lib/python3.8/dist-packages (from requests->torchvision) (3.0.4)\n"
          ]
        }
      ],
      "source": [
        "!pip install keras\n",
        "!pip install scikit-learn\n",
        "!pip install transformers\n",
        "!pip install torch torchvision torchaudio"
      ]
    },
    {
      "cell_type": "code",
      "execution_count": null,
      "id": "6339b2cd-dc1d-4504-bb3d-11f2375cc674",
      "metadata": {
        "id": "6339b2cd-dc1d-4504-bb3d-11f2375cc674"
      },
      "outputs": [],
      "source": [
        "import csv\n",
        "import pickle\n",
        "import pandas as pd\n",
        "import numpy as np\n",
        "\n",
        "import torch\n",
        "from torch.utils.data import TensorDataset, DataLoader, RandomSampler, SequentialSampler\n",
        "\n",
        "from keras_preprocessing.sequence import pad_sequences\n",
        "\n",
        "import transformers\n",
        "from transformers import BertTokenizer, BertConfig\n",
        "from transformers import get_linear_schedule_with_warmup\n",
        "from transformers import BertForTokenClassification, AdamW\n",
        "\n",
        "from sklearn.model_selection import train_test_split\n",
        "from sklearn.metrics import multilabel_confusion_matrix\n",
        "from sklearn.metrics import accuracy_score, precision_score, recall_score, f1_score"
      ]
    },
    {
      "cell_type": "code",
      "execution_count": null,
      "id": "iJlsQfj3oLUW",
      "metadata": {
        "id": "iJlsQfj3oLUW",
        "colab": {
          "base_uri": "https://localhost:8080/",
          "height": 36
        },
        "outputId": "9c10f692-e123-42db-b281-0a0a79af4a75"
      },
      "outputs": [
        {
          "output_type": "execute_result",
          "data": {
            "text/plain": [
              "'1.13.0+cu116'"
            ],
            "application/vnd.google.colaboratory.intrinsic+json": {
              "type": "string"
            }
          },
          "metadata": {},
          "execution_count": 3
        }
      ],
      "source": [
        "torch.__version__"
      ]
    },
    {
      "cell_type": "code",
      "execution_count": null,
      "id": "921YJhIm0Tzp",
      "metadata": {
        "id": "921YJhIm0Tzp"
      },
      "outputs": [],
      "source": [
        "use_cuda = torch.cuda.is_available()\n",
        "device = torch.device(\"cuda\" if use_cuda else \"cpu\")\n",
        "\n",
        "if use_cuda:\n",
        "    n_gpu = torch.cuda.device_count()\n",
        "    torch.cuda.get_device_name(0)"
      ]
    },
    {
      "cell_type": "code",
      "execution_count": null,
      "id": "d288dfb7-d29e-4ea2-b26d-4106ae2e36bf",
      "metadata": {
        "id": "d288dfb7-d29e-4ea2-b26d-4106ae2e36bf",
        "colab": {
          "base_uri": "https://localhost:8080/",
          "height": 36
        },
        "outputId": "15faaa4e-44d6-4a2e-80a9-0505bd2c934b"
      },
      "outputs": [
        {
          "output_type": "execute_result",
          "data": {
            "text/plain": [
              "'4.25.1'"
            ],
            "application/vnd.google.colaboratory.intrinsic+json": {
              "type": "string"
            }
          },
          "metadata": {},
          "execution_count": 5
        }
      ],
      "source": [
        "transformers.__version__"
      ]
    },
    {
      "cell_type": "markdown",
      "id": "HjypuaJMrB6e",
      "metadata": {
        "id": "HjypuaJMrB6e"
      },
      "source": [
        "### Set-up data"
      ]
    },
    {
      "cell_type": "code",
      "execution_count": null,
      "id": "090065c1-1595-4092-8448-d2bd38a41a1c",
      "metadata": {
        "id": "090065c1-1595-4092-8448-d2bd38a41a1c"
      },
      "outputs": [],
      "source": [
        "df = pd.read_csv('custom_ner.csv')\n",
        "df.head()"
      ]
    },
    {
      "cell_type": "code",
      "source": [
        "sentences = []\n",
        "labels = []\n",
        "for i,j in zip(df['text'], df['labels']):\n",
        "  sentences.append(i.split())\n",
        "  labels.append(j.split())\n",
        "\n",
        "print(sentences[0], labels[0])"
      ],
      "metadata": {
        "id": "yuM4570brDvO"
      },
      "id": "yuM4570brDvO",
      "execution_count": null,
      "outputs": []
    },
    {
      "cell_type": "code",
      "source": [
        "unique_labels = set()\n",
        "\n",
        "for lb in labels:\n",
        "        [unique_labels.add(i) for i in lb if i not in unique_labels]\n",
        "labels_to_ids = {k: v for v, k in enumerate(unique_labels)}\n",
        "ids_to_labels = {v: k for v, k in enumerate(unique_labels)}\n",
        "\n",
        "print(unique_labels)\n",
        "print(labels_to_ids)\n",
        "print(ids_to_labels)"
      ],
      "metadata": {
        "colab": {
          "base_uri": "https://localhost:8080/"
        },
        "id": "7KCNHSj0s_LM",
        "outputId": "f5d09516-3f24-434a-df42-f685b2f9dd1d"
      },
      "id": "7KCNHSj0s_LM",
      "execution_count": null,
      "outputs": [
        {
          "output_type": "stream",
          "name": "stdout",
          "text": [
            "{'O', 'B-brd'}\n",
            "{'O': 0, 'B-brd': 1}\n",
            "{0: 'O', 1: 'B-brd'}\n"
          ]
        }
      ]
    },
    {
      "cell_type": "markdown",
      "id": "TbeLFeTOsXDj",
      "metadata": {
        "id": "TbeLFeTOsXDj"
      },
      "source": [
        "### Set of unique tags and its indices"
      ]
    },
    {
      "cell_type": "code",
      "execution_count": null,
      "id": "c5b1d924-4e5d-4a4d-ae95-dd06a27ccc3b",
      "metadata": {
        "id": "c5b1d924-4e5d-4a4d-ae95-dd06a27ccc3b",
        "colab": {
          "base_uri": "https://localhost:8080/"
        },
        "outputId": "34a5a37f-c22e-4e48-ee7d-527ba1948297"
      },
      "outputs": [
        {
          "output_type": "execute_result",
          "data": {
            "text/plain": [
              "{'O': 0, 'B-brd': 1, 'PAD': 2}"
            ]
          },
          "metadata": {},
          "execution_count": 10
        }
      ],
      "source": [
        "tag_values = list(unique_labels)\n",
        "tag_values.append('PAD')\n",
        "tag2idx = {t: i for i, t in enumerate(tag_values)}\n",
        "\n",
        "tag2idx"
      ]
    },
    {
      "cell_type": "markdown",
      "id": "pQ1g-VO-s-Lf",
      "metadata": {
        "id": "pQ1g-VO-s-Lf"
      },
      "source": [
        "### Set-up BERT tokenizer from pre-trained **`bert-base-german-cased`**"
      ]
    },
    {
      "cell_type": "code",
      "execution_count": null,
      "id": "885ae799-c5f1-4edb-9020-b0106fa53eb4",
      "metadata": {
        "id": "885ae799-c5f1-4edb-9020-b0106fa53eb4",
        "colab": {
          "base_uri": "https://localhost:8080/",
          "height": 131,
          "referenced_widgets": [
            "1db810578ddb473e939024212e2c82a4",
            "81ef2db02553497e91662bdaf8456a1c",
            "3af2ed21d72847d09d9d7152e797da88",
            "36da5cb2972c4a8798c49be40d651ac2",
            "d70f7619cf6740d783f828276b2452cc",
            "3d330b9fcb47495e8b4d992add562ad4",
            "0a11c51cdb7549f8b983f9bf3995b53e",
            "055b14dc05d34eadbc893eebfa8405a0",
            "fdbb7eae597044e3bf74580bef750ddb",
            "b4e7fe0848cd457e96fde62a9de003a2",
            "e8b5c50be63a4fd99b07038c8f41fc8c",
            "5bbd10b7c0344a85bfb11e6dfd045943",
            "587fb0142579434494b55e012e374d70",
            "15c9b4696a2f45f296dc7e95dd487adf",
            "dff3a4bebca74e2296261cfce8045887",
            "254712bada3f40f89a6a2e8650ca76f1",
            "6f2833c6003348889feaa787553fe2f1",
            "3414396ac8214f04874eb8c8ac583c5a",
            "df3a6305cc5240c584d84b29627a4ae1",
            "96b984fb5d5a44f1ae919d21d2b855bb",
            "3beff6df5cf34ec0a5fe4fec6bca7a5c",
            "4902e667ba4747918cd7af6d18f35a2e",
            "7bb4920d7ce4406aa7df41dd68a2cc9a",
            "1009d93983464000b17e04f6f3b279b1",
            "fb286fad0aa34b959e8884f1df404bdf",
            "703b1f0c04284afda87fce656f806f3f",
            "f43c8b2240bf47f69c5f8e3868c4c0f3",
            "014e5cca3a5645c5aded4a2d39108176",
            "2e044505b68d456186cb21659eab9f30",
            "039b5ca1c05c44159d6fed0c6a2be945",
            "75fe144c13af40dd8c059d3821af57bf",
            "d8fa330dc2de4961a0296b4a4ace6ef0",
            "cf5cd51cb1c745358382b9cabcb8c813"
          ]
        },
        "outputId": "dc5c8689-1d5a-4aca-9dce-268187b92dfa"
      },
      "outputs": [
        {
          "output_type": "display_data",
          "data": {
            "text/plain": [
              "Downloading:   0%|          | 0.00/255k [00:00<?, ?B/s]"
            ],
            "application/vnd.jupyter.widget-view+json": {
              "version_major": 2,
              "version_minor": 0,
              "model_id": "1db810578ddb473e939024212e2c82a4"
            }
          },
          "metadata": {}
        },
        {
          "output_type": "display_data",
          "data": {
            "text/plain": [
              "Downloading:   0%|          | 0.00/29.0 [00:00<?, ?B/s]"
            ],
            "application/vnd.jupyter.widget-view+json": {
              "version_major": 2,
              "version_minor": 0,
              "model_id": "5bbd10b7c0344a85bfb11e6dfd045943"
            }
          },
          "metadata": {}
        },
        {
          "output_type": "display_data",
          "data": {
            "text/plain": [
              "Downloading:   0%|          | 0.00/433 [00:00<?, ?B/s]"
            ],
            "application/vnd.jupyter.widget-view+json": {
              "version_major": 2,
              "version_minor": 0,
              "model_id": "7bb4920d7ce4406aa7df41dd68a2cc9a"
            }
          },
          "metadata": {}
        },
        {
          "output_type": "execute_result",
          "data": {
            "text/plain": [
              "2"
            ]
          },
          "metadata": {},
          "execution_count": 11
        }
      ],
      "source": [
        "tokenizer = BertTokenizer.from_pretrained('bert-base-german-cased', do_lower_case=False)\n",
        "tokenizer.add_tokens(['BIRADS', 'birads'])  # words to keep as a whole\n"
      ]
    },
    {
      "cell_type": "markdown",
      "id": "_Zfk56-zuOiw",
      "metadata": {
        "id": "_Zfk56-zuOiw"
      },
      "source": [
        "Since BERT uses **WordPiece**, we also have to make our sentences to similar format.\n",
        "\n",
        "The following function accepts **`sentences`** and **`labels`**, and iterates through every single one of them.\n",
        "\n",
        "Our **`tokenizer`** is applied to every single word from each sentence of **`sentences`**. While doing this, we have to make each sub-word from word has the same label."
      ]
    },
    {
      "cell_type": "code",
      "execution_count": null,
      "id": "bb56f8db-617d-42d6-b738-49442b271af2",
      "metadata": {
        "id": "bb56f8db-617d-42d6-b738-49442b271af2"
      },
      "outputs": [],
      "source": [
        "def tokenize_preserve_labels(sentence, text_labels):\n",
        "    tokenized_sentence = []\n",
        "    labels = []\n",
        "    \n",
        "    for word, label in zip(sentence, text_labels):\n",
        "        tokenized_word = tokenizer.tokenize(word)\n",
        "        n_subwords = len(tokenized_word)\n",
        "        tokenized_sentence.extend(tokenized_word)\n",
        "        labels.extend([label] * n_subwords)\n",
        "    return tokenized_sentence, labels"
      ]
    },
    {
      "cell_type": "code",
      "execution_count": null,
      "id": "d5c72c90-d085-4210-b7b3-615b7ba3a026",
      "metadata": {
        "colab": {
          "base_uri": "https://localhost:8080/"
        },
        "id": "d5c72c90-d085-4210-b7b3-615b7ba3a026",
        "outputId": "a684e0d7-f956-4aaa-92f7-b5925e324333"
      },
      "outputs": [
        {
          "output_type": "stream",
          "name": "stdout",
          "text": [
            "CPU times: user 7.21 s, sys: 42.1 ms, total: 7.25 s\n",
            "Wall time: 8.68 s\n"
          ]
        }
      ],
      "source": [
        "%%time\n",
        "tokenized_texts_labels = [tokenize_preserve_labels(sent, labels) for sent, labels in zip(sentences, labels)]"
      ]
    },
    {
      "cell_type": "code",
      "source": [
        "print(tokenized_texts_labels[0][1])"
      ],
      "metadata": {
        "colab": {
          "base_uri": "https://localhost:8080/"
        },
        "id": "N8TrSKJq3k_U",
        "outputId": "641a7c54-2389-419f-893d-6d0fdd714aae"
      },
      "id": "N8TrSKJq3k_U",
      "execution_count": null,
      "outputs": [
        {
          "output_type": "stream",
          "name": "stdout",
          "text": [
            "['O', 'O', 'O', 'O', 'O', 'O', 'O', 'O', 'O', 'O', 'O', 'O', 'O', 'O', 'O', 'O', 'O', 'O', 'O', 'O', 'O', 'O', 'O', 'O', 'O', 'O', 'O', 'O', 'O', 'O', 'O', 'O', 'O', 'O', 'O', 'O', 'O', 'O', 'O', 'O', 'O', 'O', 'O', 'O', 'O', 'O', 'O', 'O', 'O', 'O', 'O', 'O', 'O', 'O', 'O', 'O', 'O', 'O', 'O', 'O', 'O', 'O', 'O', 'O', 'O', 'O', 'O', 'O', 'O', 'O', 'O', 'O', 'O', 'O', 'O', 'O', 'O', 'O', 'O', 'O', 'O', 'O', 'O', 'O', 'O', 'O', 'O', 'O', 'O', 'O', 'O', 'O', 'O', 'O', 'O', 'O', 'O', 'O', 'O', 'O', 'O', 'O', 'O', 'O', 'O', 'O', 'O', 'O', 'O', 'O', 'O', 'O', 'O', 'O', 'O', 'O', 'O', 'O', 'O', 'O', 'O', 'O', 'O', 'O', 'O', 'O', 'O', 'O', 'O', 'O', 'O', 'O', 'O', 'O', 'O', 'O', 'O', 'O', 'O', 'O', 'O', 'O', 'O', 'O', 'O', 'O', 'O', 'O', 'O', 'O', 'O', 'O', 'O', 'O', 'O', 'O', 'O', 'O', 'O', 'O', 'O', 'O', 'O', 'O', 'O', 'O', 'O', 'O', 'O', 'O', 'O', 'O', 'O', 'O', 'O', 'O', 'O', 'O', 'O', 'B-brd', 'O', 'O', 'O', 'O']\n"
          ]
        }
      ]
    },
    {
      "cell_type": "markdown",
      "id": "6i8uiY4zvsdN",
      "metadata": {
        "id": "6i8uiY4zvsdN"
      },
      "source": [
        "Extract **tokens** and **labels** from **`tokenized_texts_labels`**."
      ]
    },
    {
      "cell_type": "code",
      "execution_count": null,
      "id": "6fcb10a0-3573-4588-8c66-4877c3a4ac75",
      "metadata": {
        "id": "6fcb10a0-3573-4588-8c66-4877c3a4ac75"
      },
      "outputs": [],
      "source": [
        "tokenized_texts = [token_label_pair[0] for token_label_pair in tokenized_texts_labels]\n",
        "labels = [token_label_pair[1] for token_label_pair in tokenized_texts_labels]\n",
        "\n",
        "print(tokenized_texts[0])\n",
        "print(labels[0])\n",
        "print(len(tokenized_texts[0]), len(labels[0]))\n",
        "print(tokenized_texts[0][179], labels[0][179])"
      ]
    },
    {
      "cell_type": "markdown",
      "id": "OG7bd0TAwJ3B",
      "metadata": {
        "id": "OG7bd0TAwJ3B"
      },
      "source": [
        "### Apply padding and generate **`attention_mask`**"
      ]
    },
    {
      "cell_type": "code",
      "execution_count": null,
      "id": "7d7822b5-c6d2-430f-af5e-8b0dde24ce67",
      "metadata": {
        "id": "7d7822b5-c6d2-430f-af5e-8b0dde24ce67"
      },
      "outputs": [],
      "source": [
        "MAX_LEN = 512\n",
        "BATCH_SIZE = 4"
      ]
    },
    {
      "cell_type": "code",
      "execution_count": null,
      "id": "b2ebe348-5d60-4b5b-91e4-1dbe3f990108",
      "metadata": {
        "id": "b2ebe348-5d60-4b5b-91e4-1dbe3f990108"
      },
      "outputs": [],
      "source": [
        "input_ids = pad_sequences([tokenizer.convert_tokens_to_ids(txt) for txt in tokenized_texts], maxlen=MAX_LEN, dtype='long', value=0.0, truncating='post', padding='post')"
      ]
    },
    {
      "cell_type": "code",
      "execution_count": null,
      "id": "a1a8800f-5260-4f48-b562-64448f1925e1",
      "metadata": {
        "id": "a1a8800f-5260-4f48-b562-64448f1925e1"
      },
      "outputs": [],
      "source": [
        "tags = pad_sequences([[tag2idx.get(l) for l in lab] for lab in labels], maxlen=MAX_LEN, value=tag2idx['PAD'], padding='post', dtype='long', truncating='post')"
      ]
    },
    {
      "cell_type": "code",
      "execution_count": null,
      "id": "c8a4196b-d5b9-4422-a304-cc42cd0303c8",
      "metadata": {
        "id": "c8a4196b-d5b9-4422-a304-cc42cd0303c8"
      },
      "outputs": [],
      "source": [
        "attention_mask = [[float(i != 0.0) for i in ii] for ii in input_ids]"
      ]
    },
    {
      "cell_type": "markdown",
      "id": "Lh1AVCfH0cRs",
      "metadata": {
        "id": "Lh1AVCfH0cRs"
      },
      "source": [
        "### Prepare training and testing data"
      ]
    },
    {
      "cell_type": "markdown",
      "id": "H6JKcK_02Ln-",
      "metadata": {
        "id": "H6JKcK_02Ln-"
      },
      "source": [
        "Split data and attention mask."
      ]
    },
    {
      "cell_type": "code",
      "execution_count": null,
      "id": "beb85d4d-fc6c-46c1-9528-cf6b510d2dde",
      "metadata": {
        "id": "beb85d4d-fc6c-46c1-9528-cf6b510d2dde"
      },
      "outputs": [],
      "source": [
        "X_train, X_test, y_train, y_test = train_test_split(input_ids, tags, random_state=42, test_size=0.1)\n",
        "tr_mask, val_mask, _, _ = train_test_split(attention_mask, input_ids, random_state=42, test_size=0.1)"
      ]
    },
    {
      "cell_type": "code",
      "execution_count": null,
      "id": "033526d0-ce2c-450b-a807-bf9112ff7444",
      "metadata": {
        "id": "033526d0-ce2c-450b-a807-bf9112ff7444"
      },
      "outputs": [],
      "source": [
        "X_train, X_test, y_train, y_test = torch.tensor(X_train), torch.tensor(X_test), torch.tensor(y_train), torch.tensor(y_test)\n",
        "tr_mask, val_mask = torch.tensor(tr_mask), torch.tensor(val_mask)"
      ]
    },
    {
      "cell_type": "markdown",
      "id": "zikhaibD2OId",
      "metadata": {
        "id": "zikhaibD2OId"
      },
      "source": [
        "Create data-loaders."
      ]
    },
    {
      "cell_type": "code",
      "execution_count": null,
      "id": "94639695-e977-4e7a-820a-0135dfa74c8f",
      "metadata": {
        "id": "94639695-e977-4e7a-820a-0135dfa74c8f"
      },
      "outputs": [],
      "source": [
        "train_data = TensorDataset(X_train, tr_mask, y_train)\n",
        "train_sampler = RandomSampler(train_data)\n",
        "train_dataloader = DataLoader(train_data, sampler=train_sampler, batch_size=BATCH_SIZE)\n",
        "\n",
        "valid_data = TensorDataset(X_test, val_mask, y_test)\n",
        "valid_sampler = SequentialSampler(valid_data)\n",
        "valid_dataloader = DataLoader(valid_data, sampler=valid_sampler, batch_size=BATCH_SIZE)"
      ]
    },
    {
      "cell_type": "markdown",
      "id": "nZFHGBn71ndF",
      "metadata": {
        "id": "nZFHGBn71ndF"
      },
      "source": [
        "### Pull and fine-tune **`bert-base-german-cased`** model"
      ]
    },
    {
      "cell_type": "code",
      "execution_count": null,
      "id": "da724751-3626-43b3-a979-435040595400",
      "metadata": {
        "id": "da724751-3626-43b3-a979-435040595400",
        "colab": {
          "base_uri": "https://localhost:8080/"
        },
        "outputId": "39664b41-04b3-4121-ca8d-2c42ef78c1cf"
      },
      "outputs": [
        {
          "output_type": "stream",
          "name": "stderr",
          "text": [
            "Some weights of the model checkpoint at bert-base-german-cased were not used when initializing BertForTokenClassification: ['cls.predictions.transform.LayerNorm.weight', 'cls.predictions.transform.LayerNorm.bias', 'cls.seq_relationship.weight', 'cls.predictions.transform.dense.weight', 'cls.seq_relationship.bias', 'cls.predictions.bias', 'cls.predictions.decoder.weight', 'cls.predictions.transform.dense.bias']\n",
            "- This IS expected if you are initializing BertForTokenClassification from the checkpoint of a model trained on another task or with another architecture (e.g. initializing a BertForSequenceClassification model from a BertForPreTraining model).\n",
            "- This IS NOT expected if you are initializing BertForTokenClassification from the checkpoint of a model that you expect to be exactly identical (initializing a BertForSequenceClassification model from a BertForSequenceClassification model).\n",
            "Some weights of BertForTokenClassification were not initialized from the model checkpoint at bert-base-german-cased and are newly initialized: ['classifier.weight', 'classifier.bias']\n",
            "You should probably TRAIN this model on a down-stream task to be able to use it for predictions and inference.\n"
          ]
        },
        {
          "output_type": "execute_result",
          "data": {
            "text/plain": [
              "Embedding(30002, 768)"
            ]
          },
          "metadata": {},
          "execution_count": 147
        }
      ],
      "source": [
        "model = BertForTokenClassification.from_pretrained('bert-base-german-cased', num_labels=len(tag2idx), output_attentions=False, output_hidden_states=False)\n",
        "model.resize_token_embeddings(len(tokenizer))  # resize after adding the 2 words"
      ]
    },
    {
      "cell_type": "code",
      "execution_count": null,
      "id": "PQEHRctF0xmz",
      "metadata": {
        "id": "PQEHRctF0xmz"
      },
      "outputs": [],
      "source": [
        "if use_cuda:\n",
        "    model = model.cuda()"
      ]
    },
    {
      "cell_type": "code",
      "execution_count": null,
      "id": "1db826e5-d274-41f0-864e-5d983479b9fe",
      "metadata": {
        "id": "1db826e5-d274-41f0-864e-5d983479b9fe"
      },
      "outputs": [],
      "source": [
        "FULL_FINETUNING = True\n",
        "if FULL_FINETUNING:\n",
        "    param_optimizer = list(model.named_parameters())\n",
        "    no_decay = ['bias', 'gamma', 'beta']\n",
        "    optimizer_grouped_parameters = [\n",
        "        {'params': [p for n, p in param_optimizer if not any(nd in n for nd in no_decay)], 'weight_decay_rate': 0.01},\n",
        "        {'params': [p for n, p in param_optimizer if any(nd in n for nd in no_decay)], 'weight_decay_rate': 0.0}\n",
        "    ]\n",
        "else:\n",
        "    param_optimizer = list(model.classifier.named_parameters)\n",
        "    optimizer_grouped_parameters = [{'params': [p for n, p in param_optimizer]}]"
      ]
    },
    {
      "cell_type": "code",
      "execution_count": null,
      "id": "7ae22876-5c98-4a7e-b548-d8851b25e7e4",
      "metadata": {
        "id": "7ae22876-5c98-4a7e-b548-d8851b25e7e4",
        "colab": {
          "base_uri": "https://localhost:8080/"
        },
        "outputId": "f2497c61-4631-49b6-e576-84f6ab9a5b0e"
      },
      "outputs": [
        {
          "output_type": "stream",
          "name": "stderr",
          "text": [
            "/usr/local/lib/python3.8/dist-packages/transformers/optimization.py:306: FutureWarning: This implementation of AdamW is deprecated and will be removed in a future version. Use the PyTorch implementation torch.optim.AdamW instead, or set `no_deprecation_warning=True` to disable this warning\n",
            "  warnings.warn(\n"
          ]
        }
      ],
      "source": [
        "optimizer = AdamW(optimizer_grouped_parameters, lr=3e-5, eps=1e-8)"
      ]
    },
    {
      "cell_type": "markdown",
      "id": "zuy0Po8W2cI-",
      "metadata": {
        "id": "zuy0Po8W2cI-"
      },
      "source": [
        "### Training and evaluation"
      ]
    },
    {
      "cell_type": "code",
      "execution_count": null,
      "id": "c2d8bbff-7dd7-4f76-8e5b-333633ca9eff",
      "metadata": {
        "id": "c2d8bbff-7dd7-4f76-8e5b-333633ca9eff"
      },
      "outputs": [],
      "source": [
        "EPOCHS = 3\n",
        "MAX_GRAD_NORM = 1.0\n",
        "\n",
        "total_steps = len(train_dataloader) * EPOCHS\n",
        "scheduler = get_linear_schedule_with_warmup(optimizer, num_warmup_steps=0, num_training_steps=total_steps)"
      ]
    },
    {
      "cell_type": "code",
      "execution_count": null,
      "id": "9352258c-a388-4f0d-88f7-b1d38404e120",
      "metadata": {
        "colab": {
          "base_uri": "https://localhost:8080/"
        },
        "id": "9352258c-a388-4f0d-88f7-b1d38404e120",
        "outputId": "5bba2c59-5ef6-46e8-de78-eb81fdeb7ac1"
      },
      "outputs": [
        {
          "output_type": "stream",
          "name": "stdout",
          "text": [
            "- Epoch 01 -\n",
            "Average train loss:\t0.03143\n",
            "Validation loss:\t0.00056\n",
            "Validation accuracy:\t0.99977\n",
            "Validation precision:\t0.99977\n",
            "Validation recall:\t0.99977\n",
            "Validation f1-score:\t0.99977\n",
            "\n",
            "- Epoch 02 -\n",
            "Average train loss:\t0.00034\n",
            "Validation loss:\t0.00058\n",
            "Validation accuracy:\t0.99977\n",
            "Validation precision:\t0.99977\n",
            "Validation recall:\t0.99977\n",
            "Validation f1-score:\t0.99977\n",
            "\n",
            "- Epoch 03 -\n",
            "Average train loss:\t0.00026\n",
            "Validation loss:\t0.00054\n",
            "Validation accuracy:\t0.99977\n",
            "Validation precision:\t0.99977\n",
            "Validation recall:\t0.99977\n",
            "Validation f1-score:\t0.99977\n",
            "\n",
            "CPU times: user 4min 33s, sys: 17.2 s, total: 4min 50s\n",
            "Wall time: 4min 50s\n"
          ]
        }
      ],
      "source": [
        "%%time\n",
        "loss_values, validation_loss_values = [], []\n",
        "\n",
        "for e in range(EPOCHS):\n",
        "    print(f'- Epoch 0{e+1} -')\n",
        "    model.train()\n",
        "    total_loss = 0\n",
        "    \n",
        "    for step, batch in enumerate(train_dataloader):\n",
        "        batch = tuple(t.to(device) for t in batch)\n",
        "        b_input_ids, b_input_mask, b_labels = batch\n",
        "        model.zero_grad()\n",
        "        outputs = model(b_input_ids, token_type_ids=None, attention_mask=b_input_mask, labels=b_labels)\n",
        "        loss = outputs[0]\n",
        "        loss.backward()\n",
        "        total_loss += loss.item()\n",
        "        torch.nn.utils.clip_grad_norm_(parameters=model.parameters(), max_norm=MAX_GRAD_NORM)\n",
        "        optimizer.step()\n",
        "        scheduler.step()\n",
        "        \n",
        "    avg_train_loss = total_loss / len(train_dataloader)\n",
        "    print('Average train loss:\\t{:.5f}'.format(avg_train_loss))\n",
        "    loss_values.append(avg_train_loss)\n",
        "    \n",
        "    model.eval()\n",
        "    eval_loss, eval_accuracy = 0, 0\n",
        "    predictions, true_labels = [], []\n",
        "    \n",
        "    for batch in valid_dataloader:\n",
        "        batch = tuple(t.to(device) for t in batch)\n",
        "        b_input_ids, b_input_mask, b_labels = batch\n",
        "        \n",
        "        with torch.no_grad():\n",
        "            outputs = model(b_input_ids, token_type_ids=None, attention_mask=b_input_mask, labels=b_labels)\n",
        "            \n",
        "        logits = outputs[1].detach().cpu().numpy()\n",
        "        label_ids = b_labels.to('cpu').numpy()\n",
        "        \n",
        "        eval_loss += outputs[0].mean().item()\n",
        "        predictions.extend([list(p) for p in np.argmax(logits, axis=2)])\n",
        "        true_labels.extend(label_ids)\n",
        "        \n",
        "    eval_loss = eval_loss / len(valid_dataloader)\n",
        "    validation_loss_values.append(eval_loss)\n",
        "    print('Validation loss:\\t{:.5f}'.format(eval_loss))\n",
        "    \n",
        "    pred_tags = [tag_values[p_i] for p, l in zip(predictions, true_labels) for p_i, l_i in zip(p, l) if tag_values[l_i] != 'PAD']\n",
        "    valid_tags = [tag_values[l_i] for l in true_labels for l_i in l if tag_values[l_i] != 'PAD']\n",
        "\n",
        "    print('Validation accuracy:\\t{:.5f}'.format(accuracy_score(pred_tags, valid_tags)))\n",
        "    print('Validation precision:\\t{:.5f}'.format(precision_score(pred_tags, valid_tags, average='micro')))\n",
        "    print('Validation recall:\\t{:.5f}'.format(recall_score(pred_tags, valid_tags, average='micro')))\n",
        "    print('Validation f1-score:\\t{:.5f}\\n'.format(f1_score(pred_tags, valid_tags, average='micro')))"
      ]
    },
    {
      "cell_type": "markdown",
      "id": "LARGmk0j2oZu",
      "metadata": {
        "id": "LARGmk0j2oZu"
      },
      "source": [
        "Calculate confusion matrix to identify **TP**, **TN**, **FP**, and **FN**. This is required to calculate **Micro- precision**, **recall**, and **F1-Score**."
      ]
    },
    {
      "cell_type": "code",
      "execution_count": null,
      "id": "qnT6goDTWV9J",
      "metadata": {
        "id": "qnT6goDTWV9J",
        "colab": {
          "base_uri": "https://localhost:8080/"
        },
        "outputId": "9ac424e4-2b27-4dca-a1ba-59a777d85a79"
      },
      "outputs": [
        {
          "output_type": "execute_result",
          "data": {
            "text/plain": [
              "['O', 'B-brd']"
            ]
          },
          "metadata": {},
          "execution_count": 154
        }
      ],
      "source": [
        "tags = list(set(valid_tags))\n",
        "tags"
      ]
    },
    {
      "cell_type": "code",
      "execution_count": null,
      "id": "znd6ZEEwAR4N",
      "metadata": {
        "id": "znd6ZEEwAR4N",
        "colab": {
          "base_uri": "https://localhost:8080/"
        },
        "outputId": "8da979da-9414-479e-ef9a-69372ac87f16"
      },
      "outputs": [
        {
          "output_type": "execute_result",
          "data": {
            "text/plain": [
              "array([[[   83,     0],\n",
              "        [    6, 25878]],\n",
              "\n",
              "       [[25878,     6],\n",
              "        [    0,    83]]])"
            ]
          },
          "metadata": {},
          "execution_count": 155
        }
      ],
      "source": [
        "matrix = multilabel_confusion_matrix(valid_tags, pred_tags, labels=tags)\n",
        "matrix"
      ]
    },
    {
      "cell_type": "code",
      "execution_count": null,
      "id": "shQoT-pHBHJq",
      "metadata": {
        "id": "shQoT-pHBHJq"
      },
      "outputs": [],
      "source": [
        "tags_eval = {}\n",
        "for t, m in zip(tags, matrix):\n",
        "    tag = t.split('-')[-1]\n",
        "    if tag not in tags_eval:\n",
        "        tags_eval[tag] = [[], [], [], []] # tp, tn, fp, fn\n",
        "\n",
        "    tn, fp = m[0]\n",
        "    fn, tp = m[1]\n",
        "\n",
        "    tags_eval[tag][0].append(tp)\n",
        "    tags_eval[tag][1].append(tn)\n",
        "    tags_eval[tag][2].append(fp)\n",
        "    tags_eval[tag][3].append(fn)"
      ]
    },
    {
      "cell_type": "markdown",
      "id": "NVxotdCp3VPg",
      "metadata": {
        "id": "NVxotdCp3VPg"
      },
      "source": [
        "Map fine-grained classes to actual classes."
      ]
    },
    {
      "cell_type": "code",
      "execution_count": null,
      "id": "JGfL2S8HPyZ-",
      "metadata": {
        "id": "JGfL2S8HPyZ-"
      },
      "outputs": [],
      "source": [
        "classes = {'BIRADS': 'brd'}"
      ]
    },
    {
      "cell_type": "markdown",
      "id": "9ArYsu9J3hfu",
      "metadata": {
        "id": "9ArYsu9J3hfu"
      },
      "source": [
        "Calculate Micro averaged performance metrics."
      ]
    },
    {
      "cell_type": "code",
      "execution_count": null,
      "id": "fz0lulc3RErG",
      "metadata": {
        "id": "fz0lulc3RErG",
        "colab": {
          "base_uri": "https://localhost:8080/"
        },
        "outputId": "7780ae93-2117-44da-ec58-4c6e66583181"
      },
      "outputs": [
        {
          "output_type": "stream",
          "name": "stdout",
          "text": [
            "brd\n",
            "0.9325842696629213\n",
            "1.0\n"
          ]
        }
      ],
      "source": [
        "for c in classes:\n",
        "    t = classes[c]\n",
        "    print(t)\n",
        "    v = tags_eval[t]\n",
        "\n",
        "    precision = sum(v[0])/(sum(v[0]) + sum(v[2]))\n",
        "    print(precision)\n",
        "    recall = sum(v[0])/(sum(v[0]) + sum(v[3]))\n",
        "    print(recall)\n",
        "    f1 = 2 * ((precision * recall) / (precision + recall))\n",
        "\n",
        "    classes[c] = [round(precision*100, 2), round(recall*100, 2), round(f1*100, 2)]"
      ]
    },
    {
      "cell_type": "code",
      "execution_count": null,
      "id": "OqWmU1tlRrOT",
      "metadata": {
        "colab": {
          "base_uri": "https://localhost:8080/"
        },
        "id": "OqWmU1tlRrOT",
        "outputId": "add1c93f-3678-4c9c-af23-37e8719ec81c"
      },
      "outputs": [
        {
          "output_type": "execute_result",
          "data": {
            "text/plain": [
              "{'BIRADS': [93.26, 100.0, 96.51]}"
            ]
          },
          "metadata": {},
          "execution_count": 159
        }
      ],
      "source": [
        "classes"
      ]
    },
    {
      "cell_type": "markdown",
      "id": "Fh7_VLa33ria",
      "metadata": {
        "id": "Fh7_VLa33ria"
      },
      "source": [
        "Finally, save our model for later use."
      ]
    },
    {
      "cell_type": "code",
      "execution_count": null,
      "id": "fzNxrAsHyVwI",
      "metadata": {
        "id": "fzNxrAsHyVwI"
      },
      "outputs": [],
      "source": [
        "torch.save(model.state_dict(), \"model.pt\")"
      ]
    },
    {
      "cell_type": "code",
      "source": [
        "def analyze(test_sentence):\n",
        "\n",
        "        tokenized_sentence = tokenizer.encode(test_sentence)\n",
        "        input_ids = torch.tensor([tokenized_sentence])\n",
        "        input_ids = input_ids.to(device)\n",
        "        output = model(input_ids)\n",
        "        logits = outputs[1].detach().cpu().numpy()\n",
        "        label_indices = np.argmax(logits, axis=2)\n",
        "        tokens = tokenizer.convert_ids_to_tokens(input_ids[0])\n",
        "\n",
        "        new_tokens, new_labels = [], []\n",
        "        for token, label_idx in zip(tokens, label_indices[0]):\n",
        "            if token.startswith(\"##\"):\n",
        "                new_tokens[-1] = new_tokens[-1] + token[2:]\n",
        "            else:\n",
        "                new_labels.append(tag_values[label_idx])\n",
        "                new_tokens.append(token)\n",
        "\n",
        "        to_remove = []\n",
        "        for idx in range(len(new_tokens)):\n",
        "            if new_tokens[idx] == \".\" and new_labels[idx] != \"O\":\n",
        "                new_tokens[idx - 1] += \".\"\n",
        "                to_remove.append(idx)\n",
        "\n",
        "        new_tokens = [\n",
        "            token for idx, token in enumerate(new_tokens) if idx not in to_remove\n",
        "        ]\n",
        "        new_labels = [\n",
        "            label for idx, label in enumerate(new_labels) if idx not in to_remove\n",
        "        ]\n",
        "\n",
        "        output = \"\"\n",
        "        for token, label in zip(new_tokens, new_labels):\n",
        "            if label != \"O\":\n",
        "                cls = classes[label.split(\"-\")[-1]]\n",
        "                output += f'cls : {cls} token: {token} label : {label}]'\n",
        "            else:\n",
        "                output += f' token: {token} - label : {label} '\n",
        "\n",
        "        output = (\n",
        "            output.replace(\"[CLS]\", \"\").replace(\"[O]\", \"\").replace(\"[SEP]\", \"\").strip()\n",
        "        )\n",
        "        return output\n"
      ],
      "metadata": {
        "id": "DQ1jif1U770R"
      },
      "id": "DQ1jif1U770R",
      "execution_count": null,
      "outputs": []
    },
    {
      "cell_type": "code",
      "source": [
        "result = analyze('  ACR-Typ c beidseits.  BIRADS 2 beidseits.')\n",
        "print(result)"
      ],
      "metadata": {
        "colab": {
          "base_uri": "https://localhost:8080/"
        },
        "id": "fPaN54dA8hT3",
        "outputId": "1ecd5f89-d93d-4622-cb86-f04dfd88185c"
      },
      "id": "fPaN54dA8hT3",
      "execution_count": null,
      "outputs": [
        {
          "output_type": "stream",
          "name": "stdout",
          "text": [
            "token:  - label : O  token: ACR - label : O  token: - - label : O  token: Typ - label : O  token: c - label : O  token: beidseits - label : O  token: . - label : O  token: BIRADS - label : O  token: 2 - label : O  token: beidseits - label : O  token: . - label : O  token:  - label : O\n"
          ]
        }
      ]
    }
  ],
  "metadata": {
    "accelerator": "GPU",
    "colab": {
      "provenance": [],
      "collapsed_sections": [
        "zuy0Po8W2cI-"
      ],
      "include_colab_link": true
    },
    "kernelspec": {
      "display_name": "Python 3",
      "language": "python",
      "name": "python3"
    },
    "language_info": {
      "codemirror_mode": {
        "name": "ipython",
        "version": 3
      },
      "file_extension": ".py",
      "mimetype": "text/x-python",
      "name": "python",
      "nbconvert_exporter": "python",
      "pygments_lexer": "ipython3",
      "version": "3.9.2"
    },
    "gpuClass": "standard",
    "widgets": {
      "application/vnd.jupyter.widget-state+json": {
        "1db810578ddb473e939024212e2c82a4": {
          "model_module": "@jupyter-widgets/controls",
          "model_name": "HBoxModel",
          "model_module_version": "1.5.0",
          "state": {
            "_dom_classes": [],
            "_model_module": "@jupyter-widgets/controls",
            "_model_module_version": "1.5.0",
            "_model_name": "HBoxModel",
            "_view_count": null,
            "_view_module": "@jupyter-widgets/controls",
            "_view_module_version": "1.5.0",
            "_view_name": "HBoxView",
            "box_style": "",
            "children": [
              "IPY_MODEL_81ef2db02553497e91662bdaf8456a1c",
              "IPY_MODEL_3af2ed21d72847d09d9d7152e797da88",
              "IPY_MODEL_36da5cb2972c4a8798c49be40d651ac2"
            ],
            "layout": "IPY_MODEL_d70f7619cf6740d783f828276b2452cc"
          }
        },
        "81ef2db02553497e91662bdaf8456a1c": {
          "model_module": "@jupyter-widgets/controls",
          "model_name": "HTMLModel",
          "model_module_version": "1.5.0",
          "state": {
            "_dom_classes": [],
            "_model_module": "@jupyter-widgets/controls",
            "_model_module_version": "1.5.0",
            "_model_name": "HTMLModel",
            "_view_count": null,
            "_view_module": "@jupyter-widgets/controls",
            "_view_module_version": "1.5.0",
            "_view_name": "HTMLView",
            "description": "",
            "description_tooltip": null,
            "layout": "IPY_MODEL_3d330b9fcb47495e8b4d992add562ad4",
            "placeholder": "​",
            "style": "IPY_MODEL_0a11c51cdb7549f8b983f9bf3995b53e",
            "value": "Downloading: 100%"
          }
        },
        "3af2ed21d72847d09d9d7152e797da88": {
          "model_module": "@jupyter-widgets/controls",
          "model_name": "FloatProgressModel",
          "model_module_version": "1.5.0",
          "state": {
            "_dom_classes": [],
            "_model_module": "@jupyter-widgets/controls",
            "_model_module_version": "1.5.0",
            "_model_name": "FloatProgressModel",
            "_view_count": null,
            "_view_module": "@jupyter-widgets/controls",
            "_view_module_version": "1.5.0",
            "_view_name": "ProgressView",
            "bar_style": "success",
            "description": "",
            "description_tooltip": null,
            "layout": "IPY_MODEL_055b14dc05d34eadbc893eebfa8405a0",
            "max": 254728,
            "min": 0,
            "orientation": "horizontal",
            "style": "IPY_MODEL_fdbb7eae597044e3bf74580bef750ddb",
            "value": 254728
          }
        },
        "36da5cb2972c4a8798c49be40d651ac2": {
          "model_module": "@jupyter-widgets/controls",
          "model_name": "HTMLModel",
          "model_module_version": "1.5.0",
          "state": {
            "_dom_classes": [],
            "_model_module": "@jupyter-widgets/controls",
            "_model_module_version": "1.5.0",
            "_model_name": "HTMLModel",
            "_view_count": null,
            "_view_module": "@jupyter-widgets/controls",
            "_view_module_version": "1.5.0",
            "_view_name": "HTMLView",
            "description": "",
            "description_tooltip": null,
            "layout": "IPY_MODEL_b4e7fe0848cd457e96fde62a9de003a2",
            "placeholder": "​",
            "style": "IPY_MODEL_e8b5c50be63a4fd99b07038c8f41fc8c",
            "value": " 255k/255k [00:00&lt;00:00, 284kB/s]"
          }
        },
        "d70f7619cf6740d783f828276b2452cc": {
          "model_module": "@jupyter-widgets/base",
          "model_name": "LayoutModel",
          "model_module_version": "1.2.0",
          "state": {
            "_model_module": "@jupyter-widgets/base",
            "_model_module_version": "1.2.0",
            "_model_name": "LayoutModel",
            "_view_count": null,
            "_view_module": "@jupyter-widgets/base",
            "_view_module_version": "1.2.0",
            "_view_name": "LayoutView",
            "align_content": null,
            "align_items": null,
            "align_self": null,
            "border": null,
            "bottom": null,
            "display": null,
            "flex": null,
            "flex_flow": null,
            "grid_area": null,
            "grid_auto_columns": null,
            "grid_auto_flow": null,
            "grid_auto_rows": null,
            "grid_column": null,
            "grid_gap": null,
            "grid_row": null,
            "grid_template_areas": null,
            "grid_template_columns": null,
            "grid_template_rows": null,
            "height": null,
            "justify_content": null,
            "justify_items": null,
            "left": null,
            "margin": null,
            "max_height": null,
            "max_width": null,
            "min_height": null,
            "min_width": null,
            "object_fit": null,
            "object_position": null,
            "order": null,
            "overflow": null,
            "overflow_x": null,
            "overflow_y": null,
            "padding": null,
            "right": null,
            "top": null,
            "visibility": null,
            "width": null
          }
        },
        "3d330b9fcb47495e8b4d992add562ad4": {
          "model_module": "@jupyter-widgets/base",
          "model_name": "LayoutModel",
          "model_module_version": "1.2.0",
          "state": {
            "_model_module": "@jupyter-widgets/base",
            "_model_module_version": "1.2.0",
            "_model_name": "LayoutModel",
            "_view_count": null,
            "_view_module": "@jupyter-widgets/base",
            "_view_module_version": "1.2.0",
            "_view_name": "LayoutView",
            "align_content": null,
            "align_items": null,
            "align_self": null,
            "border": null,
            "bottom": null,
            "display": null,
            "flex": null,
            "flex_flow": null,
            "grid_area": null,
            "grid_auto_columns": null,
            "grid_auto_flow": null,
            "grid_auto_rows": null,
            "grid_column": null,
            "grid_gap": null,
            "grid_row": null,
            "grid_template_areas": null,
            "grid_template_columns": null,
            "grid_template_rows": null,
            "height": null,
            "justify_content": null,
            "justify_items": null,
            "left": null,
            "margin": null,
            "max_height": null,
            "max_width": null,
            "min_height": null,
            "min_width": null,
            "object_fit": null,
            "object_position": null,
            "order": null,
            "overflow": null,
            "overflow_x": null,
            "overflow_y": null,
            "padding": null,
            "right": null,
            "top": null,
            "visibility": null,
            "width": null
          }
        },
        "0a11c51cdb7549f8b983f9bf3995b53e": {
          "model_module": "@jupyter-widgets/controls",
          "model_name": "DescriptionStyleModel",
          "model_module_version": "1.5.0",
          "state": {
            "_model_module": "@jupyter-widgets/controls",
            "_model_module_version": "1.5.0",
            "_model_name": "DescriptionStyleModel",
            "_view_count": null,
            "_view_module": "@jupyter-widgets/base",
            "_view_module_version": "1.2.0",
            "_view_name": "StyleView",
            "description_width": ""
          }
        },
        "055b14dc05d34eadbc893eebfa8405a0": {
          "model_module": "@jupyter-widgets/base",
          "model_name": "LayoutModel",
          "model_module_version": "1.2.0",
          "state": {
            "_model_module": "@jupyter-widgets/base",
            "_model_module_version": "1.2.0",
            "_model_name": "LayoutModel",
            "_view_count": null,
            "_view_module": "@jupyter-widgets/base",
            "_view_module_version": "1.2.0",
            "_view_name": "LayoutView",
            "align_content": null,
            "align_items": null,
            "align_self": null,
            "border": null,
            "bottom": null,
            "display": null,
            "flex": null,
            "flex_flow": null,
            "grid_area": null,
            "grid_auto_columns": null,
            "grid_auto_flow": null,
            "grid_auto_rows": null,
            "grid_column": null,
            "grid_gap": null,
            "grid_row": null,
            "grid_template_areas": null,
            "grid_template_columns": null,
            "grid_template_rows": null,
            "height": null,
            "justify_content": null,
            "justify_items": null,
            "left": null,
            "margin": null,
            "max_height": null,
            "max_width": null,
            "min_height": null,
            "min_width": null,
            "object_fit": null,
            "object_position": null,
            "order": null,
            "overflow": null,
            "overflow_x": null,
            "overflow_y": null,
            "padding": null,
            "right": null,
            "top": null,
            "visibility": null,
            "width": null
          }
        },
        "fdbb7eae597044e3bf74580bef750ddb": {
          "model_module": "@jupyter-widgets/controls",
          "model_name": "ProgressStyleModel",
          "model_module_version": "1.5.0",
          "state": {
            "_model_module": "@jupyter-widgets/controls",
            "_model_module_version": "1.5.0",
            "_model_name": "ProgressStyleModel",
            "_view_count": null,
            "_view_module": "@jupyter-widgets/base",
            "_view_module_version": "1.2.0",
            "_view_name": "StyleView",
            "bar_color": null,
            "description_width": ""
          }
        },
        "b4e7fe0848cd457e96fde62a9de003a2": {
          "model_module": "@jupyter-widgets/base",
          "model_name": "LayoutModel",
          "model_module_version": "1.2.0",
          "state": {
            "_model_module": "@jupyter-widgets/base",
            "_model_module_version": "1.2.0",
            "_model_name": "LayoutModel",
            "_view_count": null,
            "_view_module": "@jupyter-widgets/base",
            "_view_module_version": "1.2.0",
            "_view_name": "LayoutView",
            "align_content": null,
            "align_items": null,
            "align_self": null,
            "border": null,
            "bottom": null,
            "display": null,
            "flex": null,
            "flex_flow": null,
            "grid_area": null,
            "grid_auto_columns": null,
            "grid_auto_flow": null,
            "grid_auto_rows": null,
            "grid_column": null,
            "grid_gap": null,
            "grid_row": null,
            "grid_template_areas": null,
            "grid_template_columns": null,
            "grid_template_rows": null,
            "height": null,
            "justify_content": null,
            "justify_items": null,
            "left": null,
            "margin": null,
            "max_height": null,
            "max_width": null,
            "min_height": null,
            "min_width": null,
            "object_fit": null,
            "object_position": null,
            "order": null,
            "overflow": null,
            "overflow_x": null,
            "overflow_y": null,
            "padding": null,
            "right": null,
            "top": null,
            "visibility": null,
            "width": null
          }
        },
        "e8b5c50be63a4fd99b07038c8f41fc8c": {
          "model_module": "@jupyter-widgets/controls",
          "model_name": "DescriptionStyleModel",
          "model_module_version": "1.5.0",
          "state": {
            "_model_module": "@jupyter-widgets/controls",
            "_model_module_version": "1.5.0",
            "_model_name": "DescriptionStyleModel",
            "_view_count": null,
            "_view_module": "@jupyter-widgets/base",
            "_view_module_version": "1.2.0",
            "_view_name": "StyleView",
            "description_width": ""
          }
        },
        "5bbd10b7c0344a85bfb11e6dfd045943": {
          "model_module": "@jupyter-widgets/controls",
          "model_name": "HBoxModel",
          "model_module_version": "1.5.0",
          "state": {
            "_dom_classes": [],
            "_model_module": "@jupyter-widgets/controls",
            "_model_module_version": "1.5.0",
            "_model_name": "HBoxModel",
            "_view_count": null,
            "_view_module": "@jupyter-widgets/controls",
            "_view_module_version": "1.5.0",
            "_view_name": "HBoxView",
            "box_style": "",
            "children": [
              "IPY_MODEL_587fb0142579434494b55e012e374d70",
              "IPY_MODEL_15c9b4696a2f45f296dc7e95dd487adf",
              "IPY_MODEL_dff3a4bebca74e2296261cfce8045887"
            ],
            "layout": "IPY_MODEL_254712bada3f40f89a6a2e8650ca76f1"
          }
        },
        "587fb0142579434494b55e012e374d70": {
          "model_module": "@jupyter-widgets/controls",
          "model_name": "HTMLModel",
          "model_module_version": "1.5.0",
          "state": {
            "_dom_classes": [],
            "_model_module": "@jupyter-widgets/controls",
            "_model_module_version": "1.5.0",
            "_model_name": "HTMLModel",
            "_view_count": null,
            "_view_module": "@jupyter-widgets/controls",
            "_view_module_version": "1.5.0",
            "_view_name": "HTMLView",
            "description": "",
            "description_tooltip": null,
            "layout": "IPY_MODEL_6f2833c6003348889feaa787553fe2f1",
            "placeholder": "​",
            "style": "IPY_MODEL_3414396ac8214f04874eb8c8ac583c5a",
            "value": "Downloading: 100%"
          }
        },
        "15c9b4696a2f45f296dc7e95dd487adf": {
          "model_module": "@jupyter-widgets/controls",
          "model_name": "FloatProgressModel",
          "model_module_version": "1.5.0",
          "state": {
            "_dom_classes": [],
            "_model_module": "@jupyter-widgets/controls",
            "_model_module_version": "1.5.0",
            "_model_name": "FloatProgressModel",
            "_view_count": null,
            "_view_module": "@jupyter-widgets/controls",
            "_view_module_version": "1.5.0",
            "_view_name": "ProgressView",
            "bar_style": "success",
            "description": "",
            "description_tooltip": null,
            "layout": "IPY_MODEL_df3a6305cc5240c584d84b29627a4ae1",
            "max": 29,
            "min": 0,
            "orientation": "horizontal",
            "style": "IPY_MODEL_96b984fb5d5a44f1ae919d21d2b855bb",
            "value": 29
          }
        },
        "dff3a4bebca74e2296261cfce8045887": {
          "model_module": "@jupyter-widgets/controls",
          "model_name": "HTMLModel",
          "model_module_version": "1.5.0",
          "state": {
            "_dom_classes": [],
            "_model_module": "@jupyter-widgets/controls",
            "_model_module_version": "1.5.0",
            "_model_name": "HTMLModel",
            "_view_count": null,
            "_view_module": "@jupyter-widgets/controls",
            "_view_module_version": "1.5.0",
            "_view_name": "HTMLView",
            "description": "",
            "description_tooltip": null,
            "layout": "IPY_MODEL_3beff6df5cf34ec0a5fe4fec6bca7a5c",
            "placeholder": "​",
            "style": "IPY_MODEL_4902e667ba4747918cd7af6d18f35a2e",
            "value": " 29.0/29.0 [00:00&lt;00:00, 1.06kB/s]"
          }
        },
        "254712bada3f40f89a6a2e8650ca76f1": {
          "model_module": "@jupyter-widgets/base",
          "model_name": "LayoutModel",
          "model_module_version": "1.2.0",
          "state": {
            "_model_module": "@jupyter-widgets/base",
            "_model_module_version": "1.2.0",
            "_model_name": "LayoutModel",
            "_view_count": null,
            "_view_module": "@jupyter-widgets/base",
            "_view_module_version": "1.2.0",
            "_view_name": "LayoutView",
            "align_content": null,
            "align_items": null,
            "align_self": null,
            "border": null,
            "bottom": null,
            "display": null,
            "flex": null,
            "flex_flow": null,
            "grid_area": null,
            "grid_auto_columns": null,
            "grid_auto_flow": null,
            "grid_auto_rows": null,
            "grid_column": null,
            "grid_gap": null,
            "grid_row": null,
            "grid_template_areas": null,
            "grid_template_columns": null,
            "grid_template_rows": null,
            "height": null,
            "justify_content": null,
            "justify_items": null,
            "left": null,
            "margin": null,
            "max_height": null,
            "max_width": null,
            "min_height": null,
            "min_width": null,
            "object_fit": null,
            "object_position": null,
            "order": null,
            "overflow": null,
            "overflow_x": null,
            "overflow_y": null,
            "padding": null,
            "right": null,
            "top": null,
            "visibility": null,
            "width": null
          }
        },
        "6f2833c6003348889feaa787553fe2f1": {
          "model_module": "@jupyter-widgets/base",
          "model_name": "LayoutModel",
          "model_module_version": "1.2.0",
          "state": {
            "_model_module": "@jupyter-widgets/base",
            "_model_module_version": "1.2.0",
            "_model_name": "LayoutModel",
            "_view_count": null,
            "_view_module": "@jupyter-widgets/base",
            "_view_module_version": "1.2.0",
            "_view_name": "LayoutView",
            "align_content": null,
            "align_items": null,
            "align_self": null,
            "border": null,
            "bottom": null,
            "display": null,
            "flex": null,
            "flex_flow": null,
            "grid_area": null,
            "grid_auto_columns": null,
            "grid_auto_flow": null,
            "grid_auto_rows": null,
            "grid_column": null,
            "grid_gap": null,
            "grid_row": null,
            "grid_template_areas": null,
            "grid_template_columns": null,
            "grid_template_rows": null,
            "height": null,
            "justify_content": null,
            "justify_items": null,
            "left": null,
            "margin": null,
            "max_height": null,
            "max_width": null,
            "min_height": null,
            "min_width": null,
            "object_fit": null,
            "object_position": null,
            "order": null,
            "overflow": null,
            "overflow_x": null,
            "overflow_y": null,
            "padding": null,
            "right": null,
            "top": null,
            "visibility": null,
            "width": null
          }
        },
        "3414396ac8214f04874eb8c8ac583c5a": {
          "model_module": "@jupyter-widgets/controls",
          "model_name": "DescriptionStyleModel",
          "model_module_version": "1.5.0",
          "state": {
            "_model_module": "@jupyter-widgets/controls",
            "_model_module_version": "1.5.0",
            "_model_name": "DescriptionStyleModel",
            "_view_count": null,
            "_view_module": "@jupyter-widgets/base",
            "_view_module_version": "1.2.0",
            "_view_name": "StyleView",
            "description_width": ""
          }
        },
        "df3a6305cc5240c584d84b29627a4ae1": {
          "model_module": "@jupyter-widgets/base",
          "model_name": "LayoutModel",
          "model_module_version": "1.2.0",
          "state": {
            "_model_module": "@jupyter-widgets/base",
            "_model_module_version": "1.2.0",
            "_model_name": "LayoutModel",
            "_view_count": null,
            "_view_module": "@jupyter-widgets/base",
            "_view_module_version": "1.2.0",
            "_view_name": "LayoutView",
            "align_content": null,
            "align_items": null,
            "align_self": null,
            "border": null,
            "bottom": null,
            "display": null,
            "flex": null,
            "flex_flow": null,
            "grid_area": null,
            "grid_auto_columns": null,
            "grid_auto_flow": null,
            "grid_auto_rows": null,
            "grid_column": null,
            "grid_gap": null,
            "grid_row": null,
            "grid_template_areas": null,
            "grid_template_columns": null,
            "grid_template_rows": null,
            "height": null,
            "justify_content": null,
            "justify_items": null,
            "left": null,
            "margin": null,
            "max_height": null,
            "max_width": null,
            "min_height": null,
            "min_width": null,
            "object_fit": null,
            "object_position": null,
            "order": null,
            "overflow": null,
            "overflow_x": null,
            "overflow_y": null,
            "padding": null,
            "right": null,
            "top": null,
            "visibility": null,
            "width": null
          }
        },
        "96b984fb5d5a44f1ae919d21d2b855bb": {
          "model_module": "@jupyter-widgets/controls",
          "model_name": "ProgressStyleModel",
          "model_module_version": "1.5.0",
          "state": {
            "_model_module": "@jupyter-widgets/controls",
            "_model_module_version": "1.5.0",
            "_model_name": "ProgressStyleModel",
            "_view_count": null,
            "_view_module": "@jupyter-widgets/base",
            "_view_module_version": "1.2.0",
            "_view_name": "StyleView",
            "bar_color": null,
            "description_width": ""
          }
        },
        "3beff6df5cf34ec0a5fe4fec6bca7a5c": {
          "model_module": "@jupyter-widgets/base",
          "model_name": "LayoutModel",
          "model_module_version": "1.2.0",
          "state": {
            "_model_module": "@jupyter-widgets/base",
            "_model_module_version": "1.2.0",
            "_model_name": "LayoutModel",
            "_view_count": null,
            "_view_module": "@jupyter-widgets/base",
            "_view_module_version": "1.2.0",
            "_view_name": "LayoutView",
            "align_content": null,
            "align_items": null,
            "align_self": null,
            "border": null,
            "bottom": null,
            "display": null,
            "flex": null,
            "flex_flow": null,
            "grid_area": null,
            "grid_auto_columns": null,
            "grid_auto_flow": null,
            "grid_auto_rows": null,
            "grid_column": null,
            "grid_gap": null,
            "grid_row": null,
            "grid_template_areas": null,
            "grid_template_columns": null,
            "grid_template_rows": null,
            "height": null,
            "justify_content": null,
            "justify_items": null,
            "left": null,
            "margin": null,
            "max_height": null,
            "max_width": null,
            "min_height": null,
            "min_width": null,
            "object_fit": null,
            "object_position": null,
            "order": null,
            "overflow": null,
            "overflow_x": null,
            "overflow_y": null,
            "padding": null,
            "right": null,
            "top": null,
            "visibility": null,
            "width": null
          }
        },
        "4902e667ba4747918cd7af6d18f35a2e": {
          "model_module": "@jupyter-widgets/controls",
          "model_name": "DescriptionStyleModel",
          "model_module_version": "1.5.0",
          "state": {
            "_model_module": "@jupyter-widgets/controls",
            "_model_module_version": "1.5.0",
            "_model_name": "DescriptionStyleModel",
            "_view_count": null,
            "_view_module": "@jupyter-widgets/base",
            "_view_module_version": "1.2.0",
            "_view_name": "StyleView",
            "description_width": ""
          }
        },
        "7bb4920d7ce4406aa7df41dd68a2cc9a": {
          "model_module": "@jupyter-widgets/controls",
          "model_name": "HBoxModel",
          "model_module_version": "1.5.0",
          "state": {
            "_dom_classes": [],
            "_model_module": "@jupyter-widgets/controls",
            "_model_module_version": "1.5.0",
            "_model_name": "HBoxModel",
            "_view_count": null,
            "_view_module": "@jupyter-widgets/controls",
            "_view_module_version": "1.5.0",
            "_view_name": "HBoxView",
            "box_style": "",
            "children": [
              "IPY_MODEL_1009d93983464000b17e04f6f3b279b1",
              "IPY_MODEL_fb286fad0aa34b959e8884f1df404bdf",
              "IPY_MODEL_703b1f0c04284afda87fce656f806f3f"
            ],
            "layout": "IPY_MODEL_f43c8b2240bf47f69c5f8e3868c4c0f3"
          }
        },
        "1009d93983464000b17e04f6f3b279b1": {
          "model_module": "@jupyter-widgets/controls",
          "model_name": "HTMLModel",
          "model_module_version": "1.5.0",
          "state": {
            "_dom_classes": [],
            "_model_module": "@jupyter-widgets/controls",
            "_model_module_version": "1.5.0",
            "_model_name": "HTMLModel",
            "_view_count": null,
            "_view_module": "@jupyter-widgets/controls",
            "_view_module_version": "1.5.0",
            "_view_name": "HTMLView",
            "description": "",
            "description_tooltip": null,
            "layout": "IPY_MODEL_014e5cca3a5645c5aded4a2d39108176",
            "placeholder": "​",
            "style": "IPY_MODEL_2e044505b68d456186cb21659eab9f30",
            "value": "Downloading: 100%"
          }
        },
        "fb286fad0aa34b959e8884f1df404bdf": {
          "model_module": "@jupyter-widgets/controls",
          "model_name": "FloatProgressModel",
          "model_module_version": "1.5.0",
          "state": {
            "_dom_classes": [],
            "_model_module": "@jupyter-widgets/controls",
            "_model_module_version": "1.5.0",
            "_model_name": "FloatProgressModel",
            "_view_count": null,
            "_view_module": "@jupyter-widgets/controls",
            "_view_module_version": "1.5.0",
            "_view_name": "ProgressView",
            "bar_style": "success",
            "description": "",
            "description_tooltip": null,
            "layout": "IPY_MODEL_039b5ca1c05c44159d6fed0c6a2be945",
            "max": 433,
            "min": 0,
            "orientation": "horizontal",
            "style": "IPY_MODEL_75fe144c13af40dd8c059d3821af57bf",
            "value": 433
          }
        },
        "703b1f0c04284afda87fce656f806f3f": {
          "model_module": "@jupyter-widgets/controls",
          "model_name": "HTMLModel",
          "model_module_version": "1.5.0",
          "state": {
            "_dom_classes": [],
            "_model_module": "@jupyter-widgets/controls",
            "_model_module_version": "1.5.0",
            "_model_name": "HTMLModel",
            "_view_count": null,
            "_view_module": "@jupyter-widgets/controls",
            "_view_module_version": "1.5.0",
            "_view_name": "HTMLView",
            "description": "",
            "description_tooltip": null,
            "layout": "IPY_MODEL_d8fa330dc2de4961a0296b4a4ace6ef0",
            "placeholder": "​",
            "style": "IPY_MODEL_cf5cd51cb1c745358382b9cabcb8c813",
            "value": " 433/433 [00:00&lt;00:00, 15.0kB/s]"
          }
        },
        "f43c8b2240bf47f69c5f8e3868c4c0f3": {
          "model_module": "@jupyter-widgets/base",
          "model_name": "LayoutModel",
          "model_module_version": "1.2.0",
          "state": {
            "_model_module": "@jupyter-widgets/base",
            "_model_module_version": "1.2.0",
            "_model_name": "LayoutModel",
            "_view_count": null,
            "_view_module": "@jupyter-widgets/base",
            "_view_module_version": "1.2.0",
            "_view_name": "LayoutView",
            "align_content": null,
            "align_items": null,
            "align_self": null,
            "border": null,
            "bottom": null,
            "display": null,
            "flex": null,
            "flex_flow": null,
            "grid_area": null,
            "grid_auto_columns": null,
            "grid_auto_flow": null,
            "grid_auto_rows": null,
            "grid_column": null,
            "grid_gap": null,
            "grid_row": null,
            "grid_template_areas": null,
            "grid_template_columns": null,
            "grid_template_rows": null,
            "height": null,
            "justify_content": null,
            "justify_items": null,
            "left": null,
            "margin": null,
            "max_height": null,
            "max_width": null,
            "min_height": null,
            "min_width": null,
            "object_fit": null,
            "object_position": null,
            "order": null,
            "overflow": null,
            "overflow_x": null,
            "overflow_y": null,
            "padding": null,
            "right": null,
            "top": null,
            "visibility": null,
            "width": null
          }
        },
        "014e5cca3a5645c5aded4a2d39108176": {
          "model_module": "@jupyter-widgets/base",
          "model_name": "LayoutModel",
          "model_module_version": "1.2.0",
          "state": {
            "_model_module": "@jupyter-widgets/base",
            "_model_module_version": "1.2.0",
            "_model_name": "LayoutModel",
            "_view_count": null,
            "_view_module": "@jupyter-widgets/base",
            "_view_module_version": "1.2.0",
            "_view_name": "LayoutView",
            "align_content": null,
            "align_items": null,
            "align_self": null,
            "border": null,
            "bottom": null,
            "display": null,
            "flex": null,
            "flex_flow": null,
            "grid_area": null,
            "grid_auto_columns": null,
            "grid_auto_flow": null,
            "grid_auto_rows": null,
            "grid_column": null,
            "grid_gap": null,
            "grid_row": null,
            "grid_template_areas": null,
            "grid_template_columns": null,
            "grid_template_rows": null,
            "height": null,
            "justify_content": null,
            "justify_items": null,
            "left": null,
            "margin": null,
            "max_height": null,
            "max_width": null,
            "min_height": null,
            "min_width": null,
            "object_fit": null,
            "object_position": null,
            "order": null,
            "overflow": null,
            "overflow_x": null,
            "overflow_y": null,
            "padding": null,
            "right": null,
            "top": null,
            "visibility": null,
            "width": null
          }
        },
        "2e044505b68d456186cb21659eab9f30": {
          "model_module": "@jupyter-widgets/controls",
          "model_name": "DescriptionStyleModel",
          "model_module_version": "1.5.0",
          "state": {
            "_model_module": "@jupyter-widgets/controls",
            "_model_module_version": "1.5.0",
            "_model_name": "DescriptionStyleModel",
            "_view_count": null,
            "_view_module": "@jupyter-widgets/base",
            "_view_module_version": "1.2.0",
            "_view_name": "StyleView",
            "description_width": ""
          }
        },
        "039b5ca1c05c44159d6fed0c6a2be945": {
          "model_module": "@jupyter-widgets/base",
          "model_name": "LayoutModel",
          "model_module_version": "1.2.0",
          "state": {
            "_model_module": "@jupyter-widgets/base",
            "_model_module_version": "1.2.0",
            "_model_name": "LayoutModel",
            "_view_count": null,
            "_view_module": "@jupyter-widgets/base",
            "_view_module_version": "1.2.0",
            "_view_name": "LayoutView",
            "align_content": null,
            "align_items": null,
            "align_self": null,
            "border": null,
            "bottom": null,
            "display": null,
            "flex": null,
            "flex_flow": null,
            "grid_area": null,
            "grid_auto_columns": null,
            "grid_auto_flow": null,
            "grid_auto_rows": null,
            "grid_column": null,
            "grid_gap": null,
            "grid_row": null,
            "grid_template_areas": null,
            "grid_template_columns": null,
            "grid_template_rows": null,
            "height": null,
            "justify_content": null,
            "justify_items": null,
            "left": null,
            "margin": null,
            "max_height": null,
            "max_width": null,
            "min_height": null,
            "min_width": null,
            "object_fit": null,
            "object_position": null,
            "order": null,
            "overflow": null,
            "overflow_x": null,
            "overflow_y": null,
            "padding": null,
            "right": null,
            "top": null,
            "visibility": null,
            "width": null
          }
        },
        "75fe144c13af40dd8c059d3821af57bf": {
          "model_module": "@jupyter-widgets/controls",
          "model_name": "ProgressStyleModel",
          "model_module_version": "1.5.0",
          "state": {
            "_model_module": "@jupyter-widgets/controls",
            "_model_module_version": "1.5.0",
            "_model_name": "ProgressStyleModel",
            "_view_count": null,
            "_view_module": "@jupyter-widgets/base",
            "_view_module_version": "1.2.0",
            "_view_name": "StyleView",
            "bar_color": null,
            "description_width": ""
          }
        },
        "d8fa330dc2de4961a0296b4a4ace6ef0": {
          "model_module": "@jupyter-widgets/base",
          "model_name": "LayoutModel",
          "model_module_version": "1.2.0",
          "state": {
            "_model_module": "@jupyter-widgets/base",
            "_model_module_version": "1.2.0",
            "_model_name": "LayoutModel",
            "_view_count": null,
            "_view_module": "@jupyter-widgets/base",
            "_view_module_version": "1.2.0",
            "_view_name": "LayoutView",
            "align_content": null,
            "align_items": null,
            "align_self": null,
            "border": null,
            "bottom": null,
            "display": null,
            "flex": null,
            "flex_flow": null,
            "grid_area": null,
            "grid_auto_columns": null,
            "grid_auto_flow": null,
            "grid_auto_rows": null,
            "grid_column": null,
            "grid_gap": null,
            "grid_row": null,
            "grid_template_areas": null,
            "grid_template_columns": null,
            "grid_template_rows": null,
            "height": null,
            "justify_content": null,
            "justify_items": null,
            "left": null,
            "margin": null,
            "max_height": null,
            "max_width": null,
            "min_height": null,
            "min_width": null,
            "object_fit": null,
            "object_position": null,
            "order": null,
            "overflow": null,
            "overflow_x": null,
            "overflow_y": null,
            "padding": null,
            "right": null,
            "top": null,
            "visibility": null,
            "width": null
          }
        },
        "cf5cd51cb1c745358382b9cabcb8c813": {
          "model_module": "@jupyter-widgets/controls",
          "model_name": "DescriptionStyleModel",
          "model_module_version": "1.5.0",
          "state": {
            "_model_module": "@jupyter-widgets/controls",
            "_model_module_version": "1.5.0",
            "_model_name": "DescriptionStyleModel",
            "_view_count": null,
            "_view_module": "@jupyter-widgets/base",
            "_view_module_version": "1.2.0",
            "_view_name": "StyleView",
            "description_width": ""
          }
        }
      }
    }
  },
  "nbformat": 4,
  "nbformat_minor": 5
}